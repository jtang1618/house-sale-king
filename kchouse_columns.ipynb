{
 "cells": [
  {
   "cell_type": "markdown",
   "metadata": {},
   "source": [
    "# Column Names and Descriptions for King County House Sales dataset\n",
    "* **id** - unique identifier for a house\n",
    "* **date** - date a house was sold\n",
    "* **price** - price of house sold\n",
    "* **bedrooms** - number of bedrooms\n",
    "* **bathrooms** - number of bathrooms\n",
    "* **sqft_living** - square footage of the total living space\n",
    "* **sqft_lot** - square footage of the lot\n",
    "* **floors** - total number of floors/levels\n",
    "* **waterfront** - waterfront view of access\n",
    "* **view** - rating of the view from the house\n",
    "* **condition** - overall condition of the house in terms of its structure and maintenance\n",
    "* **grade** - overall grade of the house in terms of materials used and design\n",
    "* **sqft_above** - square footage of house apart from basement\n",
    "* **sqft_basement** - square footage of the basement\n",
    "* **yr_built** - year the house was built\n",
    "* **yr_renovated** - year when house was renovated\n",
    "* **zipcode** - zipcode where the property resides\n",
    "* **lat** - latitude coordinate of property\n",
    "* **long** - Longitude coordinate of property\n",
    "* **sqft_living15** - the square footage of interior housing living space for the nearest 15 neighbors\n",
    "* **sqft_lot15** - the square footage of the lot size of the nearest 15 neighbors"
   ]
  },
  {
   "cell_type": "markdown",
   "metadata": {
    "ExecuteTime": {
     "end_time": "2020-08-06T13:49:00.248048Z",
     "start_time": "2020-08-06T13:49:00.228103Z"
    }
   },
   "source": [
    "## BUILDING CONDITION"
   ]
  },
  {
   "cell_type": "markdown",
   "metadata": {},
   "source": [
    "Relative to \\[property] age and grade. Coded 1-5.\n",
    "<br><br>\n",
    "1 = Poor- Worn out. Repair and overhaul needed on painted surfaces, roofing, plumbing, heating and numerous functional inadequacies. Excessive deferred maintenance and abuse, limited value-in-use, approaching abandonment or major reconstruction; reuse or change in occupancy is imminent. Effective age is near the end of the scale regardless of the actual chronological age.\n",
    "<br><br>\n",
    "2 = Fair- Badly worn. Much repair needed. Many items need refinishing or overhauling, deferred maintenance obvious, inadequate building utility and systems all shortening the life expectancy and increasing the effective age.\n",
    "<br><br>\n",
    "3 = Average- Some evidence of deferred maintenance and normal obsolescence with age in that a few minor repairs are needed, along with some refinishing. All major components still functional and contributing toward an extended life expectancy. Effective age and utility is standard for like properties of its class and usage.\n",
    "<br><br>\n",
    "4 = Good- No obvious maintenance required but neither is everything new. Appearance and utility are above the standard and the overall effective age will be lower than the typical property.\n",
    "<br><br>\n",
    "5= Very Good- All items well maintained, many having been overhauled and repaired as they have shown signs of wear, increasing the life expectancy and lowering the effective age with little deterioration or obsolescence evident with a high degree of utility."
   ]
  },
  {
   "cell_type": "markdown",
   "metadata": {},
   "source": [
    "## BUILDING GRADE"
   ]
  },
  {
   "cell_type": "markdown",
   "metadata": {},
   "source": [
    "Represents the construction quality of improvements. Grades run from grade 1 to 13. Generally defined as:\n",
    "<br><br>\n",
    "1-3 Falls short of minimum building standards. Normally cabin or inferior structure.\n",
    "<br><br>\n",
    "4 Generally older, low quality construction. Does not meet code.\n",
    "<br><br>\n",
    "5 Low construction costs and workmanship. Small, simple design.\n",
    "<br><br>\n",
    "6 Lowest grade currently meeting building code. Low quality materials and simple designs.\n",
    "<br><br>\n",
    "7 Average grade of construction and design. Commonly seen in plats and older sub-divisions.\n",
    "<br><br>\n",
    "8 Just above average in construction and design. Usually better materials in both the exterior and interior finish work.\n",
    "<br><br>\n",
    "9 Better architectural design with extra interior and exterior design and quality.\n",
    "<br><br>\n",
    "10 Homes of this quality generally have high quality features. Finish work is better and more design quality is seen in the floor plans. Generally have a larger square footage.\n",
    "<br><br>\n",
    "11 Custom design and higher quality finish work with added amenities of solid woods, bathroom fixtures and more luxurious options.\n",
    "<br><br>\n",
    "12 Custom design and excellent builders. All materials are of the highest quality and all conveniences are present.\n",
    "<br><br>\n",
    "13 Generally custom designed and built. Mansion level. Large amount of highest quality cabinet work, wood trim, marble, entry ways etc."
   ]
  },
  {
   "cell_type": "markdown",
   "metadata": {
    "ExecuteTime": {
     "end_time": "2020-08-06T22:25:11.051253Z",
     "start_time": "2020-08-06T22:25:11.031338Z"
    }
   },
   "source": [
    "Source: [King County Assessor's Residential Glossary](https://info.kingcounty.gov/assessor/esales/Glossary.aspx?type=r)"
   ]
  }
 ],
 "metadata": {
  "kernelspec": {
   "display_name": "Python 3",
   "language": "python",
   "name": "python3"
  },
  "language_info": {
   "codemirror_mode": {
    "name": "ipython",
    "version": 3
   },
   "file_extension": ".py",
   "mimetype": "text/x-python",
   "name": "python",
   "nbconvert_exporter": "python",
   "pygments_lexer": "ipython3",
   "version": "3.6.9"
  },
  "toc": {
   "base_numbering": 1,
   "nav_menu": {},
   "number_sections": true,
   "sideBar": true,
   "skip_h1_title": false,
   "title_cell": "Table of Contents",
   "title_sidebar": "Contents",
   "toc_cell": false,
   "toc_position": {
    "height": "calc(100% - 180px)",
    "left": "10px",
    "top": "150px",
    "width": "317px"
   },
   "toc_section_display": true,
   "toc_window_display": true
  },
  "varInspector": {
   "cols": {
    "lenName": 16,
    "lenType": 16,
    "lenVar": 40
   },
   "kernels_config": {
    "python": {
     "delete_cmd_postfix": "",
     "delete_cmd_prefix": "del ",
     "library": "var_list.py",
     "varRefreshCmd": "print(var_dic_list())"
    },
    "r": {
     "delete_cmd_postfix": ") ",
     "delete_cmd_prefix": "rm(",
     "library": "var_list.r",
     "varRefreshCmd": "cat(var_dic_list()) "
    }
   },
   "types_to_exclude": [
    "module",
    "function",
    "builtin_function_or_method",
    "instance",
    "_Feature"
   ],
   "window_display": false
  }
 },
 "nbformat": 4,
 "nbformat_minor": 2
}
